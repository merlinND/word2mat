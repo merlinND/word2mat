{
 "cells": [
  {
   "cell_type": "markdown",
   "metadata": {},
   "source": [
    "# CNMOW evaluation results"
   ]
  },
  {
   "cell_type": "code",
   "execution_count": null,
   "metadata": {
    "ExecuteTime": {
     "end_time": "2019-12-19T15:57:11.390954Z",
     "start_time": "2019-12-19T15:57:11.383683Z"
    }
   },
   "outputs": [],
   "source": [
    "import json\n",
    "import os\n",
    "from os.path import realpath, dirname, join, splitext\n",
    "import sys\n",
    "\n",
    "import matplotlib.pyplot as plt\n",
    "import numpy as np\n",
    "import pandas as pd\n",
    "import seaborn as sns\n",
    "\n",
    "ROOT = './data/'\n",
    "OUTPUT_DIR = join(ROOT, 'plots')\n",
    "CSV_DIR = join(ROOT, 'hyperparameters')\n",
    "os.makedirs(OUTPUT_DIR, exist_ok=True)\n",
    "baselines = [\n",
    "    'cbow-784-10p',\n",
    "    'cmow-784-10p',\n",
    "    'hybrid-800-10p',   \n",
    "]"
   ]
  },
  {
   "cell_type": "markdown",
   "metadata": {},
   "source": [
    "# Hyperparameter tuning"
   ]
  },
  {
   "cell_type": "code",
   "execution_count": null,
   "metadata": {
    "ExecuteTime": {
     "end_time": "2019-12-19T15:57:18.701847Z",
     "start_time": "2019-12-19T15:57:18.696151Z"
    }
   },
   "outputs": [],
   "source": [
    "data_alpha = np.genfromtxt(join(CSV_DIR, 'EE_3_val_loss.csv'),delimiter=',')\n",
    "alphas = [1,2,4,8,16,32,64]"
   ]
  },
  {
   "cell_type": "code",
   "execution_count": null,
   "metadata": {
    "ExecuteTime": {
     "end_time": "2019-12-19T15:58:11.708145Z",
     "start_time": "2019-12-19T15:58:11.371864Z"
    }
   },
   "outputs": [],
   "source": [
    "plt.errorbar(alphas,np.mean(data_alpha,axis=1),yerr=(1/np.sqrt(10))*np.std(data_alpha,axis=1))\n",
    "plt.xlabel('Explore-exploit parameter $\\\\alpha$')\n",
    "plt.ylabel('Validation loss')\n",
    "ax = plt.gca()\n",
    "ax.set_xscale('log',basex=2)\n",
    "#plt.title('Validation loss vs Alpha')\n",
    "\n",
    "plt.tight_layout()\n",
    "plt.savefig(join(OUTPUT_DIR, 'hyperparameters-alpha.pdf'), bbox_inches='tight', dpi=128)\n",
    "plt.show()"
   ]
  },
  {
   "cell_type": "code",
   "execution_count": null,
   "metadata": {
    "ExecuteTime": {
     "end_time": "2019-12-19T15:57:22.096796Z",
     "start_time": "2019-12-19T15:57:22.087700Z"
    }
   },
   "outputs": [],
   "source": [
    "lamb_1 = np.genfromtxt(join(CSV_DIR, 'lambV2_val_loss.csv'),delimiter=',')\n",
    "lamb_2 = np.genfromtxt(join(CSV_DIR, 'lambV2_2_val_loss.csv'),delimiter=',')\n",
    "lamb_3 = np.genfromtxt(join(CSV_DIR, 'lambV2_3_val_loss.csv'),delimiter=',')\n",
    "\n",
    "lambdas = [0,0.25,0.5,0.75,1.0]"
   ]
  },
  {
   "cell_type": "code",
   "execution_count": null,
   "metadata": {
    "ExecuteTime": {
     "end_time": "2019-12-19T15:58:02.865436Z",
     "start_time": "2019-12-19T15:58:02.389053Z"
    }
   },
   "outputs": [],
   "source": [
    "fig, ax = plt.subplots(1, 3, figsize=(12, 3), sharey=True)\n",
    "\n",
    "for i, (ax, values) in enumerate(zip(ax, [lamb_1, lamb_2, lamb_3])):\n",
    "    ax.errorbar(lambdas,np.mean(values,axis=1),yerr=(1/np.sqrt(10))*np.std(values,axis=1))\n",
    "    if i == 1:\n",
    "        ax.set_xlabel('Skip connection weight $\\lambda$')\n",
    "    if i == 0:\n",
    "        ax.set_ylabel('Validation loss')\n",
    "    #plt.title('Validation Loss vs Lambda - CNMOW v3')\n",
    "\n",
    "plt.tight_layout()\n",
    "plt.savefig(join(OUTPUT_DIR, 'hyperparameters-lambda.pdf'), bbox_inches='tight', dpi=128)\n",
    "plt.show()"
   ]
  }
 ],
 "metadata": {
  "kernelspec": {
   "display_name": "Python 3",
   "language": "python",
   "name": "python3"
  },
  "language_info": {
   "codemirror_mode": {
    "name": "ipython",
    "version": 3
   },
   "file_extension": ".py",
   "mimetype": "text/x-python",
   "name": "python",
   "nbconvert_exporter": "python",
   "pygments_lexer": "ipython3",
   "version": "3.7.3"
  },
  "toc": {
   "nav_menu": {},
   "number_sections": true,
   "sideBar": true,
   "skip_h1_title": true,
   "title_cell": "Table of Contents",
   "title_sidebar": "Contents",
   "toc_cell": false,
   "toc_position": {},
   "toc_section_display": true,
   "toc_window_display": false
  },
  "varInspector": {
   "cols": {
    "lenName": "30",
    "lenType": 16,
    "lenVar": 40
   },
   "kernels_config": {
    "python": {
     "delete_cmd_postfix": "",
     "delete_cmd_prefix": "del ",
     "library": "var_list.py",
     "varRefreshCmd": "print(var_dic_list())"
    },
    "r": {
     "delete_cmd_postfix": ") ",
     "delete_cmd_prefix": "rm(",
     "library": "var_list.r",
     "varRefreshCmd": "cat(var_dic_list()) "
    }
   },
   "types_to_exclude": [
    "module",
    "function",
    "builtin_function_or_method",
    "instance",
    "_Feature"
   ],
   "window_display": false
  }
 },
 "nbformat": 4,
 "nbformat_minor": 2
}
