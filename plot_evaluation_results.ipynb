{
 "cells": [
  {
   "cell_type": "markdown",
   "metadata": {},
   "source": [
    "# CNMOW evaluation results"
   ]
  },
  {
   "cell_type": "code",
   "execution_count": null,
   "metadata": {
    "ExecuteTime": {
     "end_time": "2019-12-16T14:13:56.133468Z",
     "start_time": "2019-12-16T14:13:56.124139Z"
    }
   },
   "outputs": [],
   "source": [
    "import json\n",
    "import os\n",
    "from os.path import realpath, dirname, join, splitext\n",
    "import sys\n",
    "\n",
    "import matplotlib.pyplot as plt\n",
    "import numpy as np\n",
    "import pandas as pd\n",
    "import seaborn as sns\n",
    "\n",
    "ROOT = './data/'\n",
    "OUTPUT_DIR = join(ROOT, 'plots')\n",
    "os.makedirs(OUTPUT_DIR, exist_ok=True)\n",
    "baselines = [\n",
    "    'cbow-784-10p',\n",
    "    'cmow-784-10p',\n",
    "    'hybrid-800-10p',   \n",
    "]\n",
    "\n",
    "probing_tasks = sorted(['Tense', 'SubjNumber', 'BigramShift', 'CoordinationInversion', 'ObjNumber', \n",
    "                 'Length', 'Depth', 'OddManOut', ])\n",
    "downstream_tasks = sorted(['STS15', 'STS16', \n",
    "                            # Just for convenience\n",
    "                            'STS15\\nspearman', 'STS16\\nspearman',\n",
    "                            'SICKEntailment', \n",
    "                            'MRPC', 'TREC', ])\n",
    "all_tasks = probing_tasks + downstream_tasks"
   ]
  },
  {
   "cell_type": "code",
   "execution_count": null,
   "metadata": {
    "ExecuteTime": {
     "end_time": "2019-12-16T12:53:20.361639Z",
     "start_time": "2019-12-16T12:53:20.353919Z"
    }
   },
   "outputs": [],
   "source": [
    "sns.set_style(\"whitegrid\")\n",
    "sns.set_palette(\"PuBuGn_d\")"
   ]
  },
  {
   "cell_type": "markdown",
   "metadata": {},
   "source": [
    "## Available models"
   ]
  },
  {
   "cell_type": "code",
   "execution_count": null,
   "metadata": {
    "ExecuteTime": {
     "end_time": "2019-12-16T13:22:36.643790Z",
     "start_time": "2019-12-16T13:22:36.627075Z"
    }
   },
   "outputs": [],
   "source": [
    "available = []\n",
    "n_models = 0\n",
    "n_evals = 0\n",
    "for f in os.listdir(ROOT):\n",
    "    if f.startswith('model-'):\n",
    "        n_models += 1\n",
    "        available.append(f)\n",
    "    if f.startswith('evaluation-'):\n",
    "        n_evals += 1\n",
    "        available.append(f)\n",
    "\n",
    "print('Found {} models, {} evaluations:\\n'.format(n_models, n_evals))\n",
    "available = sorted(available)\n",
    "for f in available:\n",
    "    print(\"'{}',\".format(f))"
   ]
  },
  {
   "cell_type": "markdown",
   "metadata": {},
   "source": [
    "## Benchmark performance"
   ]
  },
  {
   "cell_type": "markdown",
   "metadata": {
    "heading_collapsed": true
   },
   "source": [
    "### Parsing code"
   ]
  },
  {
   "cell_type": "code",
   "execution_count": null,
   "metadata": {
    "ExecuteTime": {
     "end_time": "2019-12-16T14:09:08.220248Z",
     "start_time": "2019-12-16T14:09:08.201235Z"
    },
    "hidden": true
   },
   "outputs": [],
   "source": [
    "def extract_values(model_name, row):\n",
    "    extracted = pd.DataFrame(columns=['Model', 'Benchmark', 'Score'])\n",
    "    s = pd.Series(index=extracted.columns)\n",
    "    for k, entry in row.items():\n",
    "        s['Model'] = model_name\n",
    "        \n",
    "        if isinstance(entry, str):\n",
    "            if entry.lower() == 'none':\n",
    "                l = (np.nan, np.nan)\n",
    "                print('Warning: model {} has result \"{}\" for benchmark {}'.format(model_name, entry, k), \n",
    "                      file=sys.stderr)\n",
    "            else:\n",
    "                try:\n",
    "                    l = json.loads(entry.replace('(', '[').replace(')', ']'))\n",
    "                except json.JSONDecodeError as e:\n",
    "                    print('For model {}, could not extract pair from entry: {}'.format(\n",
    "                        model_name, entry))\n",
    "                    raise e\n",
    "            # Pairs of numbers represent (spearman, pearson)\n",
    "            s['Benchmark'] = k + '\\nspearman'\n",
    "            s['Score'] = float(l[0])\n",
    "            extracted = extracted.append(s, ignore_index=True)\n",
    "            #s['Benchmark'] = k + ' - pearson'\n",
    "            #s['Score'] = float(l[1])\n",
    "            #extracted = extracted.append(s, ignore_index=True)\n",
    "        else:\n",
    "            s['Benchmark'] = k\n",
    "            s['Score'] = entry\n",
    "            extracted = extracted.append(s, ignore_index=True)\n",
    "    return extracted\n",
    "\n",
    "def extract_model_name(row):\n",
    "    import json\n",
    "    n = row['outputmodelname']\n",
    "    try:\n",
    "        s = json.loads(n.replace(\"'\", '\"'))\n",
    "        return s[0]\n",
    "    except ValueError as e:\n",
    "        print(e)\n",
    "        pass\n",
    "    return n\n",
    "\n",
    "def parse_results(eval_filenames):\n",
    "    extracted = None\n",
    "    model_names = {}\n",
    "    for fname in eval_filenames:\n",
    "        df = pd.read_csv(fname, sep=';', header=0)\n",
    "        for i, row in df.iterrows():\n",
    "            evals = json.loads(row['downstream_tasks'].replace(\"'\", '\"'))\n",
    "            # There's one model per row\n",
    "            model_name = extract_model_name(row)\n",
    "            if model_name in model_names:\n",
    "                print('Model name \"{}\" seen in two files: \\n- {}\\n- {}'.format(\n",
    "                    model_name, fname, model_names[model_name]\n",
    "                ), file=sys.stderr)\n",
    "            model_names[model_name] = fname\n",
    "            ee = extract_values(model_name, row[evals])\n",
    "            if extracted is None:\n",
    "                extracted = ee\n",
    "            else:\n",
    "                extracted = extracted.append(ee)\n",
    "    return extracted"
   ]
  },
  {
   "cell_type": "markdown",
   "metadata": {},
   "source": [
    "### Plotting code"
   ]
  },
  {
   "cell_type": "code",
   "execution_count": null,
   "metadata": {
    "ExecuteTime": {
     "end_time": "2019-12-16T14:13:15.733383Z",
     "start_time": "2019-12-16T14:13:15.714732Z"
    }
   },
   "outputs": [],
   "source": [
    "def plot_evaluation_results(eval_filenames, baselines=None, filename='comparison.pdf', palette=None):\n",
    "    extracted = parse_results(eval_filenames)\n",
    "          \n",
    "    fig, ax = plt.subplots(2, 1, figsize=(16, 2*7))\n",
    "    for i, coeff_metrics in enumerate([False, True]):\n",
    "        mask = extracted['Benchmark'].str.contains(\"spearman|pearson\")\n",
    "        if not coeff_metrics:\n",
    "            mask = ~mask\n",
    "        selected = extracted[mask]\n",
    "        \n",
    "        # Keep desired ordering of tasks (probing, then downstream)\n",
    "        selected_benchmarks = selected['Benchmark'].unique()\n",
    "        benchmarks = [t for t in all_tasks if t in selected_benchmarks]\n",
    "        assert set(benchmarks) == set(selected_benchmarks), '{} vs {}'.format(benchmarks, selected_benchmarks)\n",
    "        \n",
    "        sns.barplot(x='Benchmark', y='Score', hue='Model', data=selected, order=benchmarks, ax=ax[i],\n",
    "                    palette=palette)\n",
    "        ax[i].legend(loc=2, bbox_to_anchor=(1,1))\n",
    "        ax[i].set_title('Evaluation results')\n",
    "        ax[i].set_xticklabels(ax[i].get_xticklabels(), rotation=45, horizontalalignment='right')\n",
    "        \n",
    "        if baselines is not None:\n",
    "            baseline_mask = selected['Model'].str.match('|'.join(baselines))\n",
    "            baseline_results = selected[baseline_mask]\n",
    "            # Draw the high-line for each metric (whichever baseline is best for that metric)\n",
    "            length = (ax[i].get_xlim()[1] - ax[i].get_xlim()[0]) / len(benchmarks)\n",
    "            for j, bench in enumerate(benchmarks):\n",
    "                max_val = baseline_results[baseline_results['Benchmark'] == bench]['Score'].max()\n",
    "                ax[i].plot([length*(j-0.5), length*(j+0.5)], [max_val, max_val], '-k', alpha=0.35)\n",
    "        \n",
    "    plt.tight_layout()\n",
    "    out = join(OUTPUT_DIR, filename)\n",
    "    plt.savefig(out, bbox_inches='tight', dpi=128)\n",
    "    plt.savefig(splitext(out)[0] + '.png', bbox_inches='tight', dpi=200)"
   ]
  },
  {
   "cell_type": "markdown",
   "metadata": {
    "heading_collapsed": true
   },
   "source": [
    "### All available evaluations"
   ]
  },
  {
   "cell_type": "code",
   "execution_count": null,
   "metadata": {
    "ExecuteTime": {
     "end_time": "2019-12-16T13:24:15.347588Z",
     "start_time": "2019-12-16T13:24:09.419448Z"
    },
    "hidden": true,
    "scrolled": false
   },
   "outputs": [],
   "source": [
    "# model-cnmow3c-784-10p, model-cnmow4c-784-10p, \n",
    "# model-cnmow7b-784-10p,\n",
    "# model-cnmow1-hybrid-800-10p model-cnmow2-hybrid-800-10p\n",
    "all_sources = [\n",
    "    'evaluation-cbow-784-10p',\n",
    "    'evaluation-cmow-784-10p',\n",
    "    'evaluation-hybrid-800-10p',\n",
    "    \n",
    "    'evaluation-cnmow1-784-10p',\n",
    "    'evaluation-cnmow1-hybrid-800-10p',\n",
    "    'evaluation-cnmow1b-784-10p',\n",
    "    'evaluation-cnmow2-784-10p',\n",
    "    'evaluation-cnmow2-hybrid-800-10p',\n",
    "    'evaluation-cnmow2b-784-10p',\n",
    "    'evaluation-cnmow3-784-10p',\n",
    "    'evaluation-cnmow3-hybrid-800-10p',\n",
    "    'evaluation-cnmow3c-784-10p',\n",
    "    'evaluation-cnmow4-784-10p',\n",
    "    'evaluation-cnmow4-hybrid-800-10p',\n",
    "    'evaluation-cnmow4c-784-10p',\n",
    "    'evaluation-cnmow5-784-10p',\n",
    "    'evaluation-cnmow5-hybrid-800-10p',\n",
    "    'evaluation-cnmow6-784-10p',\n",
    "    'evaluation-cnmow6-hybrid-800-10p',\n",
    "    'evaluation-cnmow6b-784-10p',\n",
    "    'evaluation-cnmow7-784-10p',\n",
    "    'evaluation-cnmow7-hybrid-800-10p',\n",
    "    'evaluation-cnmow7b-784-10p',\n",
    "    'evaluation-cnmow8-784-10p',\n",
    "    'evaluation-cnmow8-hybrid-800-10p',\n",
    "    'evaluation-cnmow9-784-10p',\n",
    "    'evaluation-cnmow9-hybrid-800-10p',\n",
    "]\n",
    "plot_evaluation_results([join(ROOT, source, 'evaluation.csv') for source in all_sources], baselines=baselines,\n",
    "                        filename='comparison-all.pdf')"
   ]
  },
  {
   "cell_type": "code",
   "execution_count": null,
   "metadata": {
    "hidden": true
   },
   "outputs": [],
   "source": [
    "sns.barplot()"
   ]
  },
  {
   "cell_type": "code",
   "execution_count": null,
   "metadata": {
    "hidden": true
   },
   "outputs": [],
   "source": []
  },
  {
   "cell_type": "markdown",
   "metadata": {
    "heading_collapsed": true
   },
   "source": [
    "### ReLU vs Sigmoid"
   ]
  },
  {
   "cell_type": "code",
   "execution_count": null,
   "metadata": {
    "ExecuteTime": {
     "end_time": "2019-12-16T13:52:53.949168Z",
     "start_time": "2019-12-16T13:52:50.550716Z"
    },
    "hidden": true,
    "scrolled": false
   },
   "outputs": [],
   "source": [
    "sources = [\n",
    "    'evaluation-cnmow1-784-10p',\n",
    "    'evaluation-cnmow1b-784-10p',\n",
    "    'evaluation-cnmow2-784-10p',\n",
    "    'evaluation-cnmow2b-784-10p',\n",
    "    'evaluation-cnmow6-784-10p',\n",
    "    'evaluation-cnmow6b-784-10p',\n",
    "    'evaluation-cnmow7-784-10p',\n",
    "    'evaluation-cnmow7b-784-10p',\n",
    "]\n",
    "plot_evaluation_results([join(ROOT, source, 'evaluation.csv') for source in sources], baselines=baselines,\n",
    "                        filename='comparison-nonlinearity.pdf', \n",
    "                        palette=[sns.color_palette()[0], sns.color_palette()[-1]])"
   ]
  },
  {
   "cell_type": "markdown",
   "metadata": {
    "hidden": true
   },
   "source": [
    "Conclusion: ReLU is better, except for some tasks."
   ]
  },
  {
   "cell_type": "markdown",
   "metadata": {},
   "source": [
    "### Effect of simply adding a nonlinearity to CMOW"
   ]
  },
  {
   "cell_type": "code",
   "execution_count": null,
   "metadata": {
    "ExecuteTime": {
     "end_time": "2019-12-16T14:14:01.976690Z",
     "start_time": "2019-12-16T14:13:59.166689Z"
    }
   },
   "outputs": [],
   "source": [
    "sources = [\n",
    "    'evaluation-cmow-784-10p',\n",
    "    'evaluation-cnmow1-784-10p',\n",
    "    'evaluation-cnmow2-784-10p',\n",
    "]\n",
    "plot_evaluation_results([join(ROOT, source, 'evaluation.csv') for source in sources], baselines=baselines,\n",
    "                        filename='comparison-cmow-cnmow.pdf', \n",
    "                        palette=[sns.color_palette()[0], sns.color_palette()[-2], sns.color_palette()[-1]])"
   ]
  },
  {
   "cell_type": "markdown",
   "metadata": {
    "heading_collapsed": true
   },
   "source": [
    "### Hybrid only"
   ]
  },
  {
   "cell_type": "code",
   "execution_count": null,
   "metadata": {
    "ExecuteTime": {
     "end_time": "2019-12-16T14:01:33.162381Z",
     "start_time": "2019-12-16T14:01:29.044286Z"
    },
    "hidden": true
   },
   "outputs": [],
   "source": [
    "sources = [\n",
    "    'evaluation-hybrid-800-10p',\n",
    "    \n",
    "    'evaluation-cnmow1-hybrid-800-10p',\n",
    "    'evaluation-cnmow2-hybrid-800-10p',\n",
    "    'evaluation-cnmow3-hybrid-800-10p',\n",
    "    'evaluation-cnmow4-hybrid-800-10p',\n",
    "    'evaluation-cnmow5-hybrid-800-10p',\n",
    "    'evaluation-cnmow6-hybrid-800-10p',\n",
    "    'evaluation-cnmow7-hybrid-800-10p',\n",
    "    'evaluation-cnmow8-hybrid-800-10p',\n",
    "    'evaluation-cnmow9-hybrid-800-10p',\n",
    "]\n",
    "plot_evaluation_results([join(ROOT, source, 'evaluation.csv') for source in sources], baselines=baselines,\n",
    "                        filename='comparison-hybrid.pdf', \n",
    "                        palette=[sns.color_palette()[0], sns.color_palette()[-2], sns.color_palette()[-1]])"
   ]
  },
  {
   "cell_type": "markdown",
   "metadata": {},
   "source": [
    "### Models that perform better"
   ]
  },
  {
   "cell_type": "code",
   "execution_count": null,
   "metadata": {
    "ExecuteTime": {
     "end_time": "2019-12-16T13:24:26.674358Z",
     "start_time": "2019-12-16T13:24:25.837794Z"
    }
   },
   "outputs": [],
   "source": [
    "df = parse_results([join(ROOT, source, 'evaluation.csv') for source in all_sources])\n",
    "better_models = {}\n",
    "unique_tasks = df['Benchmark'].unique()\n",
    "print('There are {} tasks.'.format(len(unique_tasks)))\n",
    "for task in unique_tasks:\n",
    "    subset = df[df['Benchmark'] == task]\n",
    "    baseline_mask = subset['Model'].str.match('|'.join(baselines))\n",
    "    baseline_max = subset[baseline_mask]['Score'].max()\n",
    "    better_mask = subset['Score'] > baseline_max\n",
    "    for j, row in subset[better_mask].iterrows():\n",
    "        name = row['Model']\n",
    "        if name not in better_models:\n",
    "            better_models[name] = []\n",
    "        tsk = task.replace('\\n', ' ')\n",
    "        better_models[name].append(tsk)\n",
    "        print('- Model {} is better at task {}:  {}  >  {}'.format(\n",
    "            name, tsk, row['Score'], baseline_max\n",
    "        ))\n",
    "        \n",
    "print('\\n Summary:')\n",
    "for model, tasks in better_models.items():\n",
    "    print('- Model {} is better at {} tasks ({})'.format(model, len(tasks), ','.join(tasks)))"
   ]
  },
  {
   "cell_type": "code",
   "execution_count": null,
   "metadata": {
    "ExecuteTime": {
     "end_time": "2019-12-16T13:28:18.083691Z",
     "start_time": "2019-12-16T13:28:15.176398Z"
    }
   },
   "outputs": [],
   "source": [
    "# TODO: actually pick the best models\n",
    "sources = [\n",
    "    'evaluation-cbow-784-10p',\n",
    "    'evaluation-cmow-784-10p',\n",
    "    'evaluation-hybrid-800-10p',\n",
    "    \n",
    "    # 'evaluation-cnmow1-784-10p',\n",
    "    # 'evaluation-cnmow1b-784-10p',\n",
    "    # 'evaluation-cnmow2-784-10p',\n",
    "    # 'evaluation-cnmow2b-784-10p',\n",
    "    # 'evaluation-cnmow3-hybrid-800-10p',\n",
    "    # 'evaluation-cnmow6-hybrid-800-10p',\n",
    "    'evaluation-cnmow2-784-10p',\n",
    "    'evaluation-cnmow2-hybrid-800-10p',\n",
    "]\n",
    "plot_evaluation_results([join(ROOT, source, 'evaluation.csv') for source in sources], baselines=baselines,\n",
    "                        filename='comparison-best.pdf')"
   ]
  },
  {
   "cell_type": "markdown",
   "metadata": {
    "heading_collapsed": true
   },
   "source": [
    "## Training times"
   ]
  },
  {
   "cell_type": "code",
   "execution_count": null,
   "metadata": {
    "ExecuteTime": {
     "end_time": "2019-12-16T08:39:30.093826Z",
     "start_time": "2019-12-16T08:39:30.074919Z"
    },
    "hidden": true
   },
   "outputs": [],
   "source": [
    "import csv\n",
    "\n",
    "def parse_training_metadata(filenames):\n",
    "    if not isinstance(filenames, (list, tuple)):\n",
    "        filenames = [filenames]\n",
    "        \n",
    "    df = pd.DataFrame(columns=['Variant name', 'Docs count', 'Training time', 'Epoch count'])\n",
    "    \n",
    "    for fname in filenames:\n",
    "        try:\n",
    "            parsed = pd.read_csv(fname, sep=',', usecols=(0,1,2,3), header=0, index_col=False, \n",
    "                                 squeeze=True, skipinitialspace=True)\n",
    "        except Exception as e:\n",
    "            print('Could not parse metadata from: {}'.format(fname), file=sys.stderr)\n",
    "            raise e\n",
    "        df = df.append(parsed, ignore_index=True)\n",
    "        \n",
    "    # Mark invalid data with NaN\n",
    "    df['Training time'] = df['Training time'].where(lambda v: v > 1)\n",
    "    df['Epoch count'] = df['Epoch count'].where(lambda v: v > 1)\n",
    "    df['Sentence / second'] = df['Docs count'] * df['Epoch count'] / df['Training time']\n",
    "    return df\n",
    "        \n",
    "    \n",
    "def plot_training_metadata(df, baselines=None, filename='training-times.pdf'):\n",
    "    fig, ax = plt.subplots(3, 1, figsize=(16, 3*7))\n",
    "    for i, metric in enumerate(['Training time', 'Epoch count', 'Sentence / second']):\n",
    "        sns.barplot(x='Variant name', y=metric, data=df, ax=ax[i])\n",
    "        #ax[i].set_title(metric)\n",
    "        ax[i].set_xticklabels(ax[i].get_xticklabels(), rotation=45, horizontalalignment='right')\n",
    "        ax[i].set_xlabel('')\n",
    "        \n",
    "        if i == 0:\n",
    "            ax[i].set_ylim((0, 25000))\n",
    "        \n",
    "    plt.tight_layout()\n",
    "    out = join(OUTPUT_DIR, filename)\n",
    "    plt.savefig(out, bbox_inches='tight', dpi=128)\n",
    "    plt.savefig(splitext(out)[0] + '.png', bbox_inches='tight', dpi=200)"
   ]
  },
  {
   "cell_type": "code",
   "execution_count": null,
   "metadata": {
    "ExecuteTime": {
     "end_time": "2019-12-16T08:39:42.703439Z",
     "start_time": "2019-12-16T08:39:38.083648Z"
    },
    "hidden": true
   },
   "outputs": [],
   "source": [
    "models_trained = [\n",
    "    'model-cbow-784-10p',\n",
    "    'model-cmow-784-10p',\n",
    "    'model-hybrid-800-10p',\n",
    "    'model-cnmow1-784-10p',\n",
    "    'model-cnmow1b-784-10p',\n",
    "    'model-cnmow2-784-10p',\n",
    "    'model-cnmow2b-784-10p',\n",
    "    'model-cnmow3-784-10p',\n",
    "    'model-cnmow3-hybrid-800-10p',\n",
    "    'model-cnmow4-784-10p',\n",
    "    'model-cnmow4-hybrid-800-10p',\n",
    "    'model-cnmow5-784-10p',\n",
    "    'model-cnmow5-hybrid-800-10p',\n",
    "    'model-cnmow6-784-10p',\n",
    "    'model-cnmow6-hybrid-800-10p',\n",
    "    'model-cnmow6b-784-10p',\n",
    "    'model-cnmow7-784-10p',\n",
    "    'model-cnmow7-hybrid-800-10p',\n",
    "    'model-cnmow8-784-10p',\n",
    "    'model-cnmow8-hybrid-800-10p',\n",
    "    'model-cnmow9-784-10p',\n",
    "    'model-cnmow9-hybrid-800-10p',\n",
    "]\n",
    "\n",
    "df = parse_training_metadata([join(ROOT, source, 'metadata.csv') for source in models_trained])\n",
    "plot_training_metadata(df)"
   ]
  },
  {
   "cell_type": "markdown",
   "metadata": {},
   "source": [
    "# Hyperparameter tuning"
   ]
  },
  {
   "cell_type": "code",
   "execution_count": null,
   "metadata": {},
   "outputs": [],
   "source": [
    "data_alpha = np.genfromtxt('EE_3_val_loss.csv',delimiter=',')"
   ]
  },
  {
   "cell_type": "code",
   "execution_count": null,
   "metadata": {},
   "outputs": [],
   "source": [
    "alphas = [1,2,4,8,16,32,64]"
   ]
  },
  {
   "cell_type": "code",
   "execution_count": null,
   "metadata": {},
   "outputs": [],
   "source": [
    "plt.errorbar(alphas,np.mean(data_alpha,axis=1),yerr=(1/np.sqrt(10))*np.std(data_alpha,axis=1))\n",
    "plt.xlabel('alpha values')\n",
    "plt.ylabel('validation loss')\n",
    "plt.show()"
   ]
  },
  {
   "cell_type": "code",
   "execution_count": null,
   "metadata": {},
   "outputs": [],
   "source": [
    "lamb_1 = np.genfromtxt('lambV2_val_loss.csv',delimiter=',')\n",
    "lamb_2 = np.genfromtxt('lambV2_2_val_loss.csv',delimiter=',')\n",
    "lamb_3 = np.genfromtxt('lambV2_3_val_loss.csv',delimiter=',')"
   ]
  },
  {
   "cell_type": "code",
   "execution_count": null,
   "metadata": {},
   "outputs": [],
   "source": [
    "lambdas = [0,0.25,0.5,0.75,1.0]"
   ]
  },
  {
   "cell_type": "code",
   "execution_count": null,
   "metadata": {},
   "outputs": [],
   "source": [
    "plt.errorbar(lambdas,np.mean(lamb_1,axis=1),yerr=(1.96/np.sqrt(10))*np.std(lamb_1,axis=1))\n",
    "plt.xlabel('lambda values')\n",
    "plt.ylabel('validation loss')\n",
    "plt.show()"
   ]
  },
  {
   "cell_type": "code",
   "execution_count": null,
   "metadata": {},
   "outputs": [],
   "source": [
    "plt.errorbar(lambdas,np.mean(lamb_2,axis=1),yerr=(1.96/np.sqrt(10))*np.std(lamb_2,axis=1))\n",
    "plt.xlabel('lambda values')\n",
    "plt.ylabel('validation loss')\n",
    "plt.show()"
   ]
  },
  {
   "cell_type": "code",
   "execution_count": null,
   "metadata": {},
   "outputs": [],
   "source": [
    "plt.errorbar(lambdas,np.mean(lamb_3,axis=1),yerr=(1.96/np.sqrt(10))*np.std(lamb_3,axis=1))\n",
    "plt.xlabel('lambda values')\n",
    "plt.ylabel('validation loss')\n",
    "plt.show()"
   ]
  },
  {
   "cell_type": "code",
   "execution_count": null,
   "metadata": {},
   "outputs": [],
   "source": [
    "np.mean(lamb_3,axis=1)"
   ]
  },
  {
   "cell_type": "code",
   "execution_count": null,
   "metadata": {},
   "outputs": [],
   "source": []
  }
 ],
 "metadata": {
  "kernelspec": {
   "display_name": "Python 3",
   "language": "python",
   "name": "python3"
  },
  "language_info": {
   "codemirror_mode": {
    "name": "ipython",
    "version": 3
   },
   "file_extension": ".py",
   "mimetype": "text/x-python",
   "name": "python",
   "nbconvert_exporter": "python",
   "pygments_lexer": "ipython3",
   "version": "3.7.3"
  },
  "toc": {
   "nav_menu": {},
   "number_sections": true,
   "sideBar": true,
   "skip_h1_title": true,
   "title_cell": "Table of Contents",
   "title_sidebar": "Contents",
   "toc_cell": false,
   "toc_position": {},
   "toc_section_display": true,
   "toc_window_display": false
  },
  "varInspector": {
   "cols": {
    "lenName": "30",
    "lenType": 16,
    "lenVar": 40
   },
   "kernels_config": {
    "python": {
     "delete_cmd_postfix": "",
     "delete_cmd_prefix": "del ",
     "library": "var_list.py",
     "varRefreshCmd": "print(var_dic_list())"
    },
    "r": {
     "delete_cmd_postfix": ") ",
     "delete_cmd_prefix": "rm(",
     "library": "var_list.r",
     "varRefreshCmd": "cat(var_dic_list()) "
    }
   },
   "types_to_exclude": [
    "module",
    "function",
    "builtin_function_or_method",
    "instance",
    "_Feature"
   ],
   "window_display": false
  }
 },
 "nbformat": 4,
 "nbformat_minor": 2
}
