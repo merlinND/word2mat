{
 "cells": [
  {
   "cell_type": "code",
   "execution_count": null,
   "metadata": {
    "ExecuteTime": {
     "end_time": "2019-12-02T20:41:31.531498Z",
     "start_time": "2019-12-02T20:41:31.524398Z"
    }
   },
   "outputs": [],
   "source": [
    "import json\n",
    "import os\n",
    "from os.path import realpath, dirname, join\n",
    "\n",
    "import matplotlib.pyplot as plt\n",
    "import numpy as np\n",
    "import pandas as pd\n",
    "import seaborn as sns\n",
    "\n",
    "ROOT = './data/'\n",
    "OUTPUT_DIR = join(ROOT, 'plots')\n",
    "os.makedirs(OUTPUT_DIR, exist_ok=True)"
   ]
  },
  {
   "cell_type": "code",
   "execution_count": null,
   "metadata": {
    "ExecuteTime": {
     "end_time": "2019-12-02T20:45:11.031374Z",
     "start_time": "2019-12-02T20:45:11.022642Z"
    }
   },
   "outputs": [],
   "source": [
    "sns.set_style(\"whitegrid\")\n",
    "sns.set_palette(\"PuBuGn_d\")"
   ]
  },
  {
   "cell_type": "code",
   "execution_count": null,
   "metadata": {
    "ExecuteTime": {
     "end_time": "2019-12-02T20:45:11.942560Z",
     "start_time": "2019-12-02T20:45:11.921914Z"
    }
   },
   "outputs": [],
   "source": [
    "def extract_values(model_name, row):\n",
    "    extracted = pd.DataFrame(columns=['Model', 'Benchmark', 'Score'])\n",
    "    s = pd.Series(index=extracted.columns)\n",
    "    for k, entry in row.items():\n",
    "        s['Model'] = model_name\n",
    "        \n",
    "        if isinstance(entry, str):\n",
    "            l = json.loads(entry.replace('(', '[').replace(')', ']'))\n",
    "            # Pairs of numbers represent (spearman, pearson)\n",
    "            s['Benchmark'] = k + '\\nspearman'\n",
    "            s['Score'] = float(l[0])\n",
    "            extracted = extracted.append(s, ignore_index=True)\n",
    "            #s['Benchmark'] = k + ' - pearson'\n",
    "            #s['Score'] = float(l[1])\n",
    "            #extracted = extracted.append(s, ignore_index=True)\n",
    "        else:\n",
    "            s['Benchmark'] = k\n",
    "            s['Score'] = entry\n",
    "            extracted = extracted.append(s, ignore_index=True)\n",
    "    return extracted\n",
    "\n",
    "def extract_model_name(row):\n",
    "    import json\n",
    "    n = row['outputmodelname']\n",
    "    try:\n",
    "        s = json.loads(n.replace(\"'\", '\"'))\n",
    "        return s[0]\n",
    "    except ValueError as e:\n",
    "        print(e)\n",
    "        pass\n",
    "    return n\n",
    "\n",
    "def plot_evaluation_results(eval_filenames):\n",
    "    global extracted\n",
    "    extracted = None\n",
    "    for fname in eval_filenames:\n",
    "        df = pd.read_csv(fname, sep=';', header=0)\n",
    "        for i, row in df.iterrows():\n",
    "            evals = json.loads(row['downstream_tasks'].replace(\"'\", '\"'))\n",
    "            ee = extract_values(extract_model_name(row), row[evals])\n",
    "            if extracted is None:\n",
    "                extracted = ee\n",
    "            else:\n",
    "                extracted = extracted.append(ee)\n",
    "          \n",
    "    fig, ax = plt.subplots(2, 1, figsize=(16, 2*7))\n",
    "    for i, coeff_metrics in enumerate([False, True]):\n",
    "        mask = extracted['Benchmark'].str.contains(\"spearman|pearson\")\n",
    "        if not coeff_metrics:\n",
    "            mask = ~mask\n",
    "        selected = extracted[mask]\n",
    "        \n",
    "        sns.barplot(x='Benchmark', y='Score', hue='Model', data=selected, ax=ax[i])\n",
    "        ax[i].set_title('Evaluation results on several variants')\n",
    "        ax[i].set_xticklabels(ax[i].get_xticklabels(), rotation=45, horizontalalignment='right')\n",
    "        \n",
    "    plt.tight_layout()\n",
    "    plt.savefig(join(OUTPUT_DIR, 'comparison.pdf'), bbox_inches='tight', dpi=128)"
   ]
  },
  {
   "cell_type": "code",
   "execution_count": null,
   "metadata": {
    "ExecuteTime": {
     "end_time": "2019-12-02T20:45:13.848962Z",
     "start_time": "2019-12-02T20:45:12.734858Z"
    },
    "scrolled": false
   },
   "outputs": [],
   "source": [
    "sources = [\n",
    "    'evaluation-02/hybrid.csv',\n",
    "    'evaluation-cnmow-01/cnmow.csv',\n",
    "]\n",
    "plot_evaluation_results([join(ROOT, source) for source in sources])"
   ]
  }
 ],
 "metadata": {
  "kernelspec": {
   "display_name": "Python 3",
   "language": "python",
   "name": "python3"
  },
  "toc": {
   "nav_menu": {},
   "number_sections": true,
   "sideBar": true,
   "skip_h1_title": true,
   "title_cell": "Table of Contents",
   "title_sidebar": "Contents",
   "toc_cell": false,
   "toc_position": {},
   "toc_section_display": true,
   "toc_window_display": false
  },
  "varInspector": {
   "cols": {
    "lenName": "30",
    "lenType": 16,
    "lenVar": 40
   },
   "kernels_config": {
    "python": {
     "delete_cmd_postfix": "",
     "delete_cmd_prefix": "del ",
     "library": "var_list.py",
     "varRefreshCmd": "print(var_dic_list())"
    },
    "r": {
     "delete_cmd_postfix": ") ",
     "delete_cmd_prefix": "rm(",
     "library": "var_list.r",
     "varRefreshCmd": "cat(var_dic_list()) "
    }
   },
   "types_to_exclude": [
    "module",
    "function",
    "builtin_function_or_method",
    "instance",
    "_Feature"
   ],
   "window_display": false
  }
 },
 "nbformat": 4,
 "nbformat_minor": 2
}
