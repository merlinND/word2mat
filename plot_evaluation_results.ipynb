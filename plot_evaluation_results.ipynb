{
 "cells": [
  {
   "cell_type": "code",
   "execution_count": null,
   "metadata": {
    "ExecuteTime": {
     "end_time": "2019-12-11T23:07:25.976978Z",
     "start_time": "2019-12-11T23:07:25.970402Z"
    }
   },
   "outputs": [],
   "source": [
    "import json\n",
    "import os\n",
    "from os.path import realpath, dirname, join\n",
    "import sys\n",
    "\n",
    "import matplotlib.pyplot as plt\n",
    "import numpy as np\n",
    "import pandas as pd\n",
    "import seaborn as sns\n",
    "\n",
    "ROOT = './data/'\n",
    "OUTPUT_DIR = join(ROOT, 'plots')\n",
    "os.makedirs(OUTPUT_DIR, exist_ok=True)"
   ]
  },
  {
   "cell_type": "code",
   "execution_count": null,
   "metadata": {
    "ExecuteTime": {
     "end_time": "2019-12-11T22:58:04.909209Z",
     "start_time": "2019-12-11T22:58:04.905454Z"
    }
   },
   "outputs": [],
   "source": [
    "sns.set_style(\"whitegrid\")\n",
    "sns.set_palette(\"PuBuGn_d\")"
   ]
  },
  {
   "cell_type": "code",
   "execution_count": null,
   "metadata": {
    "ExecuteTime": {
     "end_time": "2019-12-11T23:51:14.401473Z",
     "start_time": "2019-12-11T23:51:14.368505Z"
    }
   },
   "outputs": [],
   "source": [
    "def extract_values(model_name, row):\n",
    "    extracted = pd.DataFrame(columns=['Model', 'Benchmark', 'Score'])\n",
    "    s = pd.Series(index=extracted.columns)\n",
    "    for k, entry in row.items():\n",
    "        s['Model'] = model_name\n",
    "        \n",
    "        if isinstance(entry, str):\n",
    "            try:\n",
    "                l = json.loads(entry.replace('(', '[').replace(')', ']'))\n",
    "            except json.JSONDecodeError as e:\n",
    "                print('For model {}, could not extract pair from entry: {}'.format(\n",
    "                    model_name, entry))\n",
    "                raise e\n",
    "            # Pairs of numbers represent (spearman, pearson)\n",
    "            s['Benchmark'] = k + '\\nspearman'\n",
    "            s['Score'] = float(l[0])\n",
    "            extracted = extracted.append(s, ignore_index=True)\n",
    "            #s['Benchmark'] = k + ' - pearson'\n",
    "            #s['Score'] = float(l[1])\n",
    "            #extracted = extracted.append(s, ignore_index=True)\n",
    "        else:\n",
    "            s['Benchmark'] = k\n",
    "            s['Score'] = entry\n",
    "            extracted = extracted.append(s, ignore_index=True)\n",
    "    return extracted\n",
    "\n",
    "def extract_model_name(row):\n",
    "    import json\n",
    "    n = row['outputmodelname']\n",
    "    try:\n",
    "        s = json.loads(n.replace(\"'\", '\"'))\n",
    "        return s[0]\n",
    "    except ValueError as e:\n",
    "        print(e)\n",
    "        pass\n",
    "    return n\n",
    "\n",
    "def plot_evaluation_results(eval_filenames, baselines=None):\n",
    "    extracted = None\n",
    "    model_names = {}\n",
    "    for fname in eval_filenames:\n",
    "        df = pd.read_csv(fname, sep=';', header=0)\n",
    "        for i, row in df.iterrows():\n",
    "            evals = json.loads(row['downstream_tasks'].replace(\"'\", '\"'))\n",
    "            # There's one model per row\n",
    "            model_name = extract_model_name(row)\n",
    "            if model_name in model_names:\n",
    "                print('Model name \"{}\" seen in two files: \\n- {}\\n- {}'.format(\n",
    "                    model_name, fname, model_names[model_name]\n",
    "                ), file=sys.stderr)\n",
    "            model_names[model_name] = fname\n",
    "            ee = extract_values(model_name, row[evals])\n",
    "            if extracted is None:\n",
    "                extracted = ee\n",
    "            else:\n",
    "                extracted = extracted.append(ee)\n",
    "          \n",
    "    fig, ax = plt.subplots(2, 1, figsize=(16, 2*7))\n",
    "    for i, coeff_metrics in enumerate([False, True]):\n",
    "        mask = extracted['Benchmark'].str.contains(\"spearman|pearson\")\n",
    "        if not coeff_metrics:\n",
    "            mask = ~mask\n",
    "        selected = extracted[mask]\n",
    "        benchmarks = sorted(selected['Benchmark'].unique())\n",
    "        \n",
    "        sns.barplot(x='Benchmark', y='Score', hue='Model', data=selected, order=benchmarks, ax=ax[i])\n",
    "        ax[i].set_title('Evaluation results on several variants')\n",
    "        ax[i].set_xticklabels(ax[i].get_xticklabels(), rotation=45, horizontalalignment='right')\n",
    "        \n",
    "        if baselines is not None:\n",
    "            baseline_mask = selected['Model'].str.match('|'.join(baselines))\n",
    "            baseline_results = selected[baseline_mask]\n",
    "            # Draw the high-line for each metric (whichever baseline is best for that metric)\n",
    "            length = (ax[i].get_xlim()[1] - ax[i].get_xlim()[0]) / len(benchmarks)\n",
    "            for j, bench in enumerate(benchmarks):\n",
    "                max_val = baseline_results[baseline_results['Benchmark'] == bench]['Score'].max()\n",
    "                ax[i].plot([length*(j-0.5), length*(j+0.5)], [max_val, max_val], '-k', alpha=0.35)\n",
    "        \n",
    "    plt.tight_layout()\n",
    "    plt.savefig(join(OUTPUT_DIR, 'comparison.pdf'), bbox_inches='tight', dpi=128)"
   ]
  },
  {
   "cell_type": "code",
   "execution_count": null,
   "metadata": {
    "ExecuteTime": {
     "end_time": "2019-12-11T23:51:25.932695Z",
     "start_time": "2019-12-11T23:51:15.023669Z"
    },
    "scrolled": false
   },
   "outputs": [],
   "source": [
    "sources = [\n",
    "    './evaluation-cbow-784-10p/evaluation.csv',\n",
    "    './evaluation-cmow-784-10p/evaluation.csv',\n",
    "    './evaluation-hybrid-800-10p/evaluation.csv',\n",
    "    \n",
    "    './evaluation-cnmow1-784-10p/evaluation.csv',\n",
    "    './evaluation-cnmow1b-784-10p/evaluation.csv',\n",
    "    './evaluation-cnmow2-784-10p/evaluation.csv',\n",
    "    './evaluation-cnmow2b-784-10p/evaluation.csv',\n",
    "    './evaluation-cnmow5-784-10p/evaluation.csv',\n",
    "    './evaluation-cnmow5-hybrid-800-10p/evaluation.csv',\n",
    "    #'./evaluation-cnmow6-784-10p/evaluation.csv',\n",
    "    './evaluation-cnmow6-hybrid-800-10p/evaluation.csv',\n",
    "    './evaluation-cnmow8-784-10p/evaluation.csv',\n",
    "    './evaluation-cnmow9-784-10p/evaluation.csv',\n",
    "]\n",
    "baselines = [\n",
    "    'cbow-784-10p',\n",
    "    'cmow-784-10p',\n",
    "    'hybrid-800-10p',   \n",
    "]\n",
    "plot_evaluation_results([join(ROOT, source) for source in sources], baselines=baselines)"
   ]
  },
  {
   "cell_type": "code",
   "execution_count": null,
   "metadata": {},
   "outputs": [],
   "source": []
  }
 ],
 "metadata": {
  "kernelspec": {
   "display_name": "Python 3",
   "language": "python",
   "name": "python3"
  },
  "language_info": {
   "codemirror_mode": {
    "name": "ipython",
    "version": 3
   },
   "file_extension": ".py",
   "mimetype": "text/x-python",
   "name": "python",
   "nbconvert_exporter": "python",
   "pygments_lexer": "ipython3",
   "version": "3.7.3"
  },
  "toc": {
   "nav_menu": {},
   "number_sections": true,
   "sideBar": true,
   "skip_h1_title": true,
   "title_cell": "Table of Contents",
   "title_sidebar": "Contents",
   "toc_cell": false,
   "toc_position": {},
   "toc_section_display": true,
   "toc_window_display": false
  },
  "varInspector": {
   "cols": {
    "lenName": "30",
    "lenType": 16,
    "lenVar": 40
   },
   "kernels_config": {
    "python": {
     "delete_cmd_postfix": "",
     "delete_cmd_prefix": "del ",
     "library": "var_list.py",
     "varRefreshCmd": "print(var_dic_list())"
    },
    "r": {
     "delete_cmd_postfix": ") ",
     "delete_cmd_prefix": "rm(",
     "library": "var_list.r",
     "varRefreshCmd": "cat(var_dic_list()) "
    }
   },
   "types_to_exclude": [
    "module",
    "function",
    "builtin_function_or_method",
    "instance",
    "_Feature"
   ],
   "window_display": false
  }
 },
 "nbformat": 4,
 "nbformat_minor": 2
}
