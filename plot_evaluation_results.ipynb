{
 "cells": [
  {
   "cell_type": "markdown",
   "metadata": {},
   "source": [
    "# CNMOW evaluation results"
   ]
  },
  {
   "cell_type": "code",
   "execution_count": null,
   "metadata": {
    "ExecuteTime": {
     "end_time": "2019-12-12T22:01:59.688533Z",
     "start_time": "2019-12-12T22:01:59.680355Z"
    }
   },
   "outputs": [],
   "source": [
    "import json\n",
    "import os\n",
    "from os.path import realpath, dirname, join, splitext\n",
    "import sys\n",
    "\n",
    "import matplotlib.pyplot as plt\n",
    "import numpy as np\n",
    "import pandas as pd\n",
    "import seaborn as sns\n",
    "\n",
    "ROOT = './data/'\n",
    "OUTPUT_DIR = join(ROOT, 'plots')\n",
    "os.makedirs(OUTPUT_DIR, exist_ok=True)\n",
    "baselines = [\n",
    "    'cbow-784-10p',\n",
    "    'cmow-784-10p',\n",
    "    'hybrid-800-10p',   \n",
    "]"
   ]
  },
  {
   "cell_type": "code",
   "execution_count": null,
   "metadata": {
    "ExecuteTime": {
     "end_time": "2019-12-12T20:18:43.691974Z",
     "start_time": "2019-12-12T20:18:43.688331Z"
    }
   },
   "outputs": [],
   "source": [
    "sns.set_style(\"whitegrid\")\n",
    "sns.set_palette(\"PuBuGn_d\")"
   ]
  },
  {
   "cell_type": "markdown",
   "metadata": {},
   "source": [
    "## Benchmark performance"
   ]
  },
  {
   "cell_type": "code",
   "execution_count": null,
   "metadata": {
    "ExecuteTime": {
     "end_time": "2019-12-12T22:02:57.562312Z",
     "start_time": "2019-12-12T22:02:57.535604Z"
    }
   },
   "outputs": [],
   "source": [
    "def extract_values(model_name, row):\n",
    "    extracted = pd.DataFrame(columns=['Model', 'Benchmark', 'Score'])\n",
    "    s = pd.Series(index=extracted.columns)\n",
    "    for k, entry in row.items():\n",
    "        s['Model'] = model_name\n",
    "        \n",
    "        if isinstance(entry, str):\n",
    "            if entry.lower() == 'none':\n",
    "                l = (np.nan, np.nan)\n",
    "                print('Warning: model {} has result \"{}\" for benchmark {}'.format(model_name, entry, k), \n",
    "                      file=sys.stderr)\n",
    "            else:\n",
    "                try:\n",
    "                    l = json.loads(entry.replace('(', '[').replace(')', ']'))\n",
    "                except json.JSONDecodeError as e:\n",
    "                    print('For model {}, could not extract pair from entry: {}'.format(\n",
    "                        model_name, entry))\n",
    "                    raise e\n",
    "            # Pairs of numbers represent (spearman, pearson)\n",
    "            s['Benchmark'] = k + '\\nspearman'\n",
    "            s['Score'] = float(l[0])\n",
    "            extracted = extracted.append(s, ignore_index=True)\n",
    "            #s['Benchmark'] = k + ' - pearson'\n",
    "            #s['Score'] = float(l[1])\n",
    "            #extracted = extracted.append(s, ignore_index=True)\n",
    "        else:\n",
    "            s['Benchmark'] = k\n",
    "            s['Score'] = entry\n",
    "            extracted = extracted.append(s, ignore_index=True)\n",
    "    return extracted\n",
    "\n",
    "def extract_model_name(row):\n",
    "    import json\n",
    "    n = row['outputmodelname']\n",
    "    try:\n",
    "        s = json.loads(n.replace(\"'\", '\"'))\n",
    "        return s[0]\n",
    "    except ValueError as e:\n",
    "        print(e)\n",
    "        pass\n",
    "    return n\n",
    "\n",
    "def plot_evaluation_results(eval_filenames, baselines=None, filename='comparison.pdf'):\n",
    "    extracted = None\n",
    "    model_names = {}\n",
    "    for fname in eval_filenames:\n",
    "        df = pd.read_csv(fname, sep=';', header=0)\n",
    "        for i, row in df.iterrows():\n",
    "            evals = json.loads(row['downstream_tasks'].replace(\"'\", '\"'))\n",
    "            # There's one model per row\n",
    "            model_name = extract_model_name(row)\n",
    "            if model_name in model_names:\n",
    "                print('Model name \"{}\" seen in two files: \\n- {}\\n- {}'.format(\n",
    "                    model_name, fname, model_names[model_name]\n",
    "                ), file=sys.stderr)\n",
    "            model_names[model_name] = fname\n",
    "            ee = extract_values(model_name, row[evals])\n",
    "            if extracted is None:\n",
    "                extracted = ee\n",
    "            else:\n",
    "                extracted = extracted.append(ee)\n",
    "          \n",
    "    fig, ax = plt.subplots(2, 1, figsize=(16, 2*7))\n",
    "    for i, coeff_metrics in enumerate([False, True]):\n",
    "        mask = extracted['Benchmark'].str.contains(\"spearman|pearson\")\n",
    "        if not coeff_metrics:\n",
    "            mask = ~mask\n",
    "        selected = extracted[mask]\n",
    "        benchmarks = sorted(selected['Benchmark'].unique())\n",
    "        \n",
    "        sns.barplot(x='Benchmark', y='Score', hue='Model', data=selected, order=benchmarks, ax=ax[i])\n",
    "        ax[i].set_title('Evaluation results on several variants')\n",
    "        ax[i].set_xticklabels(ax[i].get_xticklabels(), rotation=45, horizontalalignment='right')\n",
    "        \n",
    "        if baselines is not None:\n",
    "            baseline_mask = selected['Model'].str.match('|'.join(baselines))\n",
    "            baseline_results = selected[baseline_mask]\n",
    "            # Draw the high-line for each metric (whichever baseline is best for that metric)\n",
    "            length = (ax[i].get_xlim()[1] - ax[i].get_xlim()[0]) / len(benchmarks)\n",
    "            for j, bench in enumerate(benchmarks):\n",
    "                max_val = baseline_results[baseline_results['Benchmark'] == bench]['Score'].max()\n",
    "                ax[i].plot([length*(j-0.5), length*(j+0.5)], [max_val, max_val], '-k', alpha=0.35)\n",
    "        \n",
    "    plt.tight_layout()\n",
    "    out = join(OUTPUT_DIR, filename)\n",
    "    plt.savefig(out, bbox_inches='tight', dpi=128)\n",
    "    plt.savefig(splitext(out)[0] + '.png', bbox_inches='tight', dpi=200)"
   ]
  },
  {
   "cell_type": "code",
   "execution_count": null,
   "metadata": {
    "ExecuteTime": {
     "end_time": "2019-12-12T20:48:12.342527Z",
     "start_time": "2019-12-12T20:48:10.347964Z"
    },
    "scrolled": false
   },
   "outputs": [],
   "source": [
    "sources = [\n",
    "    './evaluation-cbow-784-10p/evaluation.csv',\n",
    "    './evaluation-cmow-784-10p/evaluation.csv',\n",
    "    './evaluation-hybrid-800-10p/evaluation.csv',\n",
    "    \n",
    "    './evaluation-cnmow1-784-10p/evaluation.csv',\n",
    "    './evaluation-cnmow1b-784-10p/evaluation.csv',\n",
    "    './evaluation-cnmow2-784-10p/evaluation.csv',\n",
    "    './evaluation-cnmow2b-784-10p/evaluation.csv',\n",
    "    './evaluation-cnmow5-784-10p/evaluation.csv',\n",
    "    './evaluation-cnmow5-hybrid-800-10p/evaluation.csv',\n",
    "    './evaluation-cnmow6-784-10p/evaluation.csv',\n",
    "    './evaluation-cnmow6-hybrid-800-10p/evaluation.csv',\n",
    "    './evaluation-cnmow8-784-10p/evaluation.csv',\n",
    "    './evaluation-cnmow9-784-10p/evaluation.csv',\n",
    "]\n",
    "plot_evaluation_results([join(ROOT, source) for source in sources], baselines=baselines,\n",
    "                        filename='comparison-all.pdf')"
   ]
  },
  {
   "cell_type": "code",
   "execution_count": null,
   "metadata": {
    "ExecuteTime": {
     "end_time": "2019-12-12T20:49:27.398320Z",
     "start_time": "2019-12-12T20:49:26.451054Z"
    }
   },
   "outputs": [],
   "source": [
    "sources = [\n",
    "    './evaluation-hybrid-800-10p/evaluation.csv',\n",
    "    './evaluation-cnmow5-hybrid-800-10p/evaluation.csv',\n",
    "    './evaluation-cnmow6-hybrid-800-10p/evaluation.csv',\n",
    "]\n",
    "plot_evaluation_results([join(ROOT, source) for source in sources], baselines=baselines,\n",
    "                        filename='comparison-hybrid.pdf')"
   ]
  },
  {
   "cell_type": "code",
   "execution_count": null,
   "metadata": {
    "ExecuteTime": {
     "end_time": "2019-12-12T20:50:39.988292Z",
     "start_time": "2019-12-12T20:50:38.897805Z"
    }
   },
   "outputs": [],
   "source": [
    "# TODO: actually pick the best models\n",
    "sources = [\n",
    "    './evaluation-cbow-784-10p/evaluation.csv',\n",
    "    './evaluation-cmow-784-10p/evaluation.csv',\n",
    "    './evaluation-hybrid-800-10p/evaluation.csv',\n",
    "    \n",
    "    './evaluation-cnmow1-784-10p/evaluation.csv',\n",
    "    './evaluation-cnmow6-hybrid-800-10p/evaluation.csv',\n",
    "]\n",
    "plot_evaluation_results([join(ROOT, source) for source in sources], baselines=baselines,\n",
    "                        filename='comparison-best.pdf')"
   ]
  },
  {
   "cell_type": "markdown",
   "metadata": {},
   "source": [
    "## Training times"
   ]
  },
  {
   "cell_type": "code",
   "execution_count": null,
   "metadata": {
    "ExecuteTime": {
     "end_time": "2019-12-12T22:08:12.524581Z",
     "start_time": "2019-12-12T22:08:12.507210Z"
    }
   },
   "outputs": [],
   "source": [
    "import csv\n",
    "\n",
    "def parse_training_metadata(filenames):\n",
    "    if not isinstance(filenames, (list, tuple)):\n",
    "        filenames = [filenames]\n",
    "        \n",
    "    df = pd.DataFrame(columns=['Variant name', 'Docs count', 'Training time', 'Epoch count'])\n",
    "    \n",
    "    for fname in filenames:\n",
    "        parsed = pd.read_csv(fname, sep=',', usecols=(0,1,2,3), header=0, index_col=False, \n",
    "                             squeeze=True, skipinitialspace=True)\n",
    "        df = df.append(parsed, ignore_index=True)\n",
    "        \n",
    "    # Mark invalid data with NaN\n",
    "    df['Training time'] = df['Training time'].where(lambda v: v > 1)\n",
    "    df['Epoch count'] = df['Epoch count'].where(lambda v: v > 1)\n",
    "    df['Sentence / second'] = df['Docs count'] * df['Epoch count'] / df['Training time']\n",
    "    return df\n",
    "        \n",
    "    \n",
    "def plot_training_metadata(df, baselines=None, filename='training-times.pdf'):\n",
    "    fig, ax = plt.subplots(3, 1, figsize=(16, 3*7))\n",
    "    for i, metric in enumerate(['Training time', 'Epoch count', 'Sentence / second']):\n",
    "        sns.barplot(x='Variant name', y=metric, data=df, ax=ax[i])\n",
    "        #ax[i].set_title(metric)\n",
    "        ax[i].set_xticklabels(ax[i].get_xticklabels(), rotation=45, horizontalalignment='right')\n",
    "        ax[i].set_xlabel('')\n",
    "        \n",
    "        if i == 0:\n",
    "            ax[i].set_ylim((0, 25000))\n",
    "        \n",
    "    plt.tight_layout()\n",
    "    out = join(OUTPUT_DIR, filename)\n",
    "    plt.savefig(out, bbox_inches='tight', dpi=128)\n",
    "    plt.savefig(splitext(out)[0] + '.png', bbox_inches='tight', dpi=200)"
   ]
  },
  {
   "cell_type": "code",
   "execution_count": null,
   "metadata": {
    "ExecuteTime": {
     "end_time": "2019-12-12T22:08:17.480056Z",
     "start_time": "2019-12-12T22:08:13.281010Z"
    }
   },
   "outputs": [],
   "source": [
    "models_trained = [\n",
    "    './model-cbow-784-10p/metadata.csv',\n",
    "    './model-cmow-784-10p/metadata.csv',\n",
    "    './model-hybrid-800-10p/metadata.csv',\n",
    "    './model-cnmow1-784-10p/metadata.csv',\n",
    "    './model-cnmow1b-784-10p/metadata.csv',\n",
    "    './model-cnmow2-784-10p/metadata.csv',\n",
    "    './model-cnmow2b-784-10p/metadata.csv',\n",
    "#     './model-cnmow3-784-10p/metadata.csv',\n",
    "    './model-cnmow5-784-10p/metadata.csv',\n",
    "    './model-cnmow5-hybrid-800-10p/metadata.csv',\n",
    "    './model-cnmow6-784-10p/metadata.csv',\n",
    "    './model-cnmow6b-784-10p/metadata.csv',\n",
    "    './model-cnmow6-hybrid-800-10p/metadata.csv',\n",
    "    './model-cnmow8-784-10p/metadata.csv',\n",
    "    './model-cnmow9-784-10p/metadata.csv',\n",
    "]\n",
    "\n",
    "df = parse_training_metadata([join(ROOT, source) for source in models_trained])\n",
    "plot_training_metadata(df)"
   ]
  }
 ],
 "metadata": {
  "kernelspec": {
   "display_name": "Python 3",
   "language": "python",
   "name": "python3"
  },
  "language_info": {
   "codemirror_mode": {
    "name": "ipython",
    "version": 3
   },
   "file_extension": ".py",
   "mimetype": "text/x-python",
   "name": "python",
   "nbconvert_exporter": "python",
   "pygments_lexer": "ipython3",
   "version": "3.7.3"
  },
  "toc": {
   "nav_menu": {},
   "number_sections": true,
   "sideBar": true,
   "skip_h1_title": true,
   "title_cell": "Table of Contents",
   "title_sidebar": "Contents",
   "toc_cell": false,
   "toc_position": {},
   "toc_section_display": true,
   "toc_window_display": false
  },
  "varInspector": {
   "cols": {
    "lenName": "30",
    "lenType": 16,
    "lenVar": 40
   },
   "kernels_config": {
    "python": {
     "delete_cmd_postfix": "",
     "delete_cmd_prefix": "del ",
     "library": "var_list.py",
     "varRefreshCmd": "print(var_dic_list())"
    },
    "r": {
     "delete_cmd_postfix": ") ",
     "delete_cmd_prefix": "rm(",
     "library": "var_list.r",
     "varRefreshCmd": "cat(var_dic_list()) "
    }
   },
   "types_to_exclude": [
    "module",
    "function",
    "builtin_function_or_method",
    "instance",
    "_Feature"
   ],
   "window_display": false
  }
 },
 "nbformat": 4,
 "nbformat_minor": 2
}
